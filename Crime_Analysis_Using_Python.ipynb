{
 "cells": [
  {
   "cell_type": "code",
   "execution_count": 43,
   "id": "f66f4cbf-1f23-4465-aba0-678e210fe205",
   "metadata": {},
   "outputs": [],
   "source": [
    "import numpy as np\n",
    "import pandas as pd\n",
    "import matplotlib.pyplot as plt\n",
    "import seaborn as sns\n",
    "from encodings.aliases import aliases # Python has a file containing a dictionary of encoding names and associated aliases\n",
    "\n",
    "# The matplotlib plots will appear directly below the cell in which the plot function was called\n",
    "%matplotlib inline"
   ]
  },
  {
   "cell_type": "markdown",
   "id": "845eeac5-60c5-4dec-b3ec-74cc37430ec2",
   "metadata": {},
   "source": [
    "#### Read in the CSV files and remove duplicates"
   ]
  },
  {
   "cell_type": "code",
   "execution_count": null,
   "id": "5eb887bd-ef64-4960-9524-73c64a2bf04c",
   "metadata": {},
   "outputs": [
    {
     "name": "stdout",
     "output_type": "stream",
     "text": [
      "Successful. cp855\n",
      "Successful. cp861\n",
      "Successful. iso8859_10\n",
      "Successful. cp857\n",
      "Successful. cp1256\n",
      "Successful. cp949\n",
      "Successful. cp852\n",
      "Successful. gbk\n",
      "Successful. cp1253\n",
      "Successful. mac_cyrillic\n",
      "Successful. cp858\n",
      "Successful. cp869\n",
      "Successful. latin_1\n",
      "Successful. cp865\n",
      "Successful. cp864\n",
      "Successful. cp860\n",
      "Successful. cp862\n",
      "Successful. iso8859_3\n",
      "Successful. cp1255\n",
      "Successful. iso8859_14\n",
      "Successful. mac_latin2\n",
      "Successful. big5hkscs\n",
      "Successful. cp932\n",
      "Successful. mac_greek\n",
      "Successful. cp850\n",
      "Successful. cp863\n",
      "Successful. cp500\n",
      "Successful. cp775\n",
      "Successful. iso8859_8\n",
      "Successful. koi8_r\n",
      "Successful. ptcp154\n",
      "Successful. iso8859_16\n",
      "Successful. kz1048\n",
      "Successful. cp1026\n",
      "Successful. utf_16_be\n",
      "Successful. cp1258\n",
      "Successful. utf_16_le\n",
      "Successful. iso8859_15\n",
      "Successful. mac_roman\n",
      "Successful. iso8859_2\n",
      "Successful. cp1252\n",
      "Successful. iso8859_5\n",
      "Successful. cp1140\n",
      "Successful. cp037\n",
      "Successful. hp_roman8\n",
      "Successful. iso8859_13\n",
      "Successful. mac_turkish\n",
      "Successful. iso8859_11\n",
      "Successful. iso8859_4\n",
      "Successful. cp1250\n",
      "Successful. cp437\n",
      "Successful. cp866\n",
      "Successful. mac_iceland\n",
      "Successful. cp1251\n",
      "Successful. cp273\n",
      "Successful. cp1254\n",
      "Successful. cp1125\n",
      "Successful. cp1257\n",
      "Successful. iso8859_7\n",
      "Successful. iso8859_6\n",
      "Successful. mbcs\n",
      "Successful. iso8859_9\n",
      "Successful. gb18030\n"
     ]
    }
   ],
   "source": [
    "# To find encoding that work\n",
    "\n",
    "# Below line creates a set of all available encodings\n",
    "alias_values = set(aliases.values())\n",
    "\n",
    "for encoding in set(aliases.values()):\n",
    "    try:\n",
    "        df = pd.read_csv('Dataset/crime.csv', nrows=10, encoding=encoding) # Read in only 10 lines for faster read \n",
    "        print('Successful.', encoding)\n",
    "    except:\n",
    "        pass"
   ]
  },
  {
   "cell_type": "code",
   "execution_count": null,
   "id": "90feda37-3120-465d-bc86-698cc0b3dab3",
   "metadata": {},
   "outputs": [],
   "source": [
    "# Read in the crime.csv file and use the timestamp as a datetime index\n",
    "crime = pd.read_csv('Dataset/crime.csv', encoding='ISO-8859-11')"
   ]
  },
  {
   "cell_type": "code",
   "execution_count": 46,
   "id": "e51c6f29-269c-4b7d-b1b6-d4fbac3f200b",
   "metadata": {},
   "outputs": [
    {
     "data": {
      "text/html": [
       "<div>\n",
       "<style scoped>\n",
       "    .dataframe tbody tr th:only-of-type {\n",
       "        vertical-align: middle;\n",
       "    }\n",
       "\n",
       "    .dataframe tbody tr th {\n",
       "        vertical-align: top;\n",
       "    }\n",
       "\n",
       "    .dataframe thead th {\n",
       "        text-align: right;\n",
       "    }\n",
       "</style>\n",
       "<table border=\"1\" class=\"dataframe\">\n",
       "  <thead>\n",
       "    <tr style=\"text-align: right;\">\n",
       "      <th></th>\n",
       "      <th>INCIDENT_NUMBER</th>\n",
       "      <th>OFFENSE_CODE</th>\n",
       "      <th>OFFENSE_CODE_GROUP</th>\n",
       "      <th>OFFENSE_DESCRIPTION</th>\n",
       "      <th>DISTRICT</th>\n",
       "      <th>REPORTING_AREA</th>\n",
       "      <th>SHOOTING</th>\n",
       "      <th>OCCURRED_ON_DATE</th>\n",
       "      <th>YEAR</th>\n",
       "      <th>MONTH</th>\n",
       "      <th>DAY_OF_WEEK</th>\n",
       "      <th>HOUR</th>\n",
       "      <th>UCR_PART</th>\n",
       "      <th>STREET</th>\n",
       "      <th>Lat</th>\n",
       "      <th>Long</th>\n",
       "      <th>Location</th>\n",
       "    </tr>\n",
       "  </thead>\n",
       "  <tbody>\n",
       "    <tr>\n",
       "      <th>0</th>\n",
       "      <td>I182070945</td>\n",
       "      <td>619</td>\n",
       "      <td>Larceny</td>\n",
       "      <td>LARCENY ALL OTHERS</td>\n",
       "      <td>D14</td>\n",
       "      <td>808</td>\n",
       "      <td>NaN</td>\n",
       "      <td>2018-09-02 13:00:00</td>\n",
       "      <td>2018</td>\n",
       "      <td>9</td>\n",
       "      <td>Sunday</td>\n",
       "      <td>13</td>\n",
       "      <td>Part One</td>\n",
       "      <td>LINCOLN ST</td>\n",
       "      <td>42.357791</td>\n",
       "      <td>-71.139371</td>\n",
       "      <td>(42.35779134, -71.13937053)</td>\n",
       "    </tr>\n",
       "    <tr>\n",
       "      <th>1</th>\n",
       "      <td>I182070943</td>\n",
       "      <td>1402</td>\n",
       "      <td>Vandalism</td>\n",
       "      <td>VANDALISM</td>\n",
       "      <td>C11</td>\n",
       "      <td>347</td>\n",
       "      <td>NaN</td>\n",
       "      <td>2018-08-21 00:00:00</td>\n",
       "      <td>2018</td>\n",
       "      <td>8</td>\n",
       "      <td>Tuesday</td>\n",
       "      <td>0</td>\n",
       "      <td>Part Two</td>\n",
       "      <td>HECLA ST</td>\n",
       "      <td>42.306821</td>\n",
       "      <td>-71.060300</td>\n",
       "      <td>(42.30682138, -71.06030035)</td>\n",
       "    </tr>\n",
       "    <tr>\n",
       "      <th>2</th>\n",
       "      <td>I182070941</td>\n",
       "      <td>3410</td>\n",
       "      <td>Towed</td>\n",
       "      <td>TOWED MOTOR VEHICLE</td>\n",
       "      <td>D4</td>\n",
       "      <td>151</td>\n",
       "      <td>NaN</td>\n",
       "      <td>2018-09-03 19:27:00</td>\n",
       "      <td>2018</td>\n",
       "      <td>9</td>\n",
       "      <td>Monday</td>\n",
       "      <td>19</td>\n",
       "      <td>Part Three</td>\n",
       "      <td>CAZENOVE ST</td>\n",
       "      <td>42.346589</td>\n",
       "      <td>-71.072429</td>\n",
       "      <td>(42.34658879, -71.07242943)</td>\n",
       "    </tr>\n",
       "    <tr>\n",
       "      <th>3</th>\n",
       "      <td>I182070940</td>\n",
       "      <td>3114</td>\n",
       "      <td>Investigate Property</td>\n",
       "      <td>INVESTIGATE PROPERTY</td>\n",
       "      <td>D4</td>\n",
       "      <td>272</td>\n",
       "      <td>NaN</td>\n",
       "      <td>2018-09-03 21:16:00</td>\n",
       "      <td>2018</td>\n",
       "      <td>9</td>\n",
       "      <td>Monday</td>\n",
       "      <td>21</td>\n",
       "      <td>Part Three</td>\n",
       "      <td>NEWCOMB ST</td>\n",
       "      <td>42.334182</td>\n",
       "      <td>-71.078664</td>\n",
       "      <td>(42.33418175, -71.07866441)</td>\n",
       "    </tr>\n",
       "    <tr>\n",
       "      <th>4</th>\n",
       "      <td>I182070938</td>\n",
       "      <td>3114</td>\n",
       "      <td>Investigate Property</td>\n",
       "      <td>INVESTIGATE PROPERTY</td>\n",
       "      <td>B3</td>\n",
       "      <td>421</td>\n",
       "      <td>NaN</td>\n",
       "      <td>2018-09-03 21:05:00</td>\n",
       "      <td>2018</td>\n",
       "      <td>9</td>\n",
       "      <td>Monday</td>\n",
       "      <td>21</td>\n",
       "      <td>Part Three</td>\n",
       "      <td>DELHI ST</td>\n",
       "      <td>42.275365</td>\n",
       "      <td>-71.090361</td>\n",
       "      <td>(42.27536542, -71.09036101)</td>\n",
       "    </tr>\n",
       "  </tbody>\n",
       "</table>\n",
       "</div>"
      ],
      "text/plain": [
       "  INCIDENT_NUMBER  OFFENSE_CODE    OFFENSE_CODE_GROUP   OFFENSE_DESCRIPTION  \\\n",
       "0      I182070945           619               Larceny    LARCENY ALL OTHERS   \n",
       "1      I182070943          1402             Vandalism             VANDALISM   \n",
       "2      I182070941          3410                 Towed   TOWED MOTOR VEHICLE   \n",
       "3      I182070940          3114  Investigate Property  INVESTIGATE PROPERTY   \n",
       "4      I182070938          3114  Investigate Property  INVESTIGATE PROPERTY   \n",
       "\n",
       "  DISTRICT REPORTING_AREA SHOOTING     OCCURRED_ON_DATE  YEAR  MONTH  \\\n",
       "0      D14            808      NaN  2018-09-02 13:00:00  2018      9   \n",
       "1      C11            347      NaN  2018-08-21 00:00:00  2018      8   \n",
       "2       D4            151      NaN  2018-09-03 19:27:00  2018      9   \n",
       "3       D4            272      NaN  2018-09-03 21:16:00  2018      9   \n",
       "4       B3            421      NaN  2018-09-03 21:05:00  2018      9   \n",
       "\n",
       "  DAY_OF_WEEK  HOUR    UCR_PART       STREET        Lat       Long  \\\n",
       "0      Sunday    13    Part One   LINCOLN ST  42.357791 -71.139371   \n",
       "1     Tuesday     0    Part Two     HECLA ST  42.306821 -71.060300   \n",
       "2      Monday    19  Part Three  CAZENOVE ST  42.346589 -71.072429   \n",
       "3      Monday    21  Part Three   NEWCOMB ST  42.334182 -71.078664   \n",
       "4      Monday    21  Part Three     DELHI ST  42.275365 -71.090361   \n",
       "\n",
       "                      Location  \n",
       "0  (42.35779134, -71.13937053)  \n",
       "1  (42.30682138, -71.06030035)  \n",
       "2  (42.34658879, -71.07242943)  \n",
       "3  (42.33418175, -71.07866441)  \n",
       "4  (42.27536542, -71.09036101)  "
      ]
     },
     "execution_count": 46,
     "metadata": {},
     "output_type": "execute_result"
    }
   ],
   "source": [
    "crime.head()"
   ]
  },
  {
   "cell_type": "code",
   "execution_count": 47,
   "id": "d537c283-479f-4343-bc29-a9f5dc6860e8",
   "metadata": {},
   "outputs": [
    {
     "data": {
      "text/plain": [
       "(319073, 17)"
      ]
     },
     "execution_count": 47,
     "metadata": {},
     "output_type": "execute_result"
    }
   ],
   "source": [
    "crime.shape"
   ]
  },
  {
   "cell_type": "code",
   "execution_count": 48,
   "id": "e34dce80-6b1a-4457-a03f-e1482b6af232",
   "metadata": {},
   "outputs": [
    {
     "data": {
      "text/plain": [
       "np.int64(23)"
      ]
     },
     "execution_count": 48,
     "metadata": {},
     "output_type": "execute_result"
    }
   ],
   "source": [
    "crime.duplicated().sum()"
   ]
  },
  {
   "cell_type": "code",
   "execution_count": 49,
   "id": "5b537bc7-64c4-4fc9-8f0d-ac0e8f584665",
   "metadata": {},
   "outputs": [],
   "source": [
    "crime.drop_duplicates(inplace=True)"
   ]
  },
  {
   "cell_type": "code",
   "execution_count": 50,
   "id": "502d4d7f-ca15-4a49-9528-918db5506c47",
   "metadata": {},
   "outputs": [
    {
     "data": {
      "text/plain": [
       "(319050, 17)"
      ]
     },
     "execution_count": 50,
     "metadata": {},
     "output_type": "execute_result"
    }
   ],
   "source": [
    "crime.shape"
   ]
  },
  {
   "cell_type": "markdown",
   "id": "14acdbda-54a0-41db-b984-6635b7c8ec9e",
   "metadata": {},
   "source": [
    "#### Explore the dataset"
   ]
  },
  {
   "cell_type": "code",
   "execution_count": 51,
   "id": "b5bf957a-4b3c-4c82-93cc-de97f27e66de",
   "metadata": {},
   "outputs": [
    {
     "data": {
      "text/html": [
       "<div>\n",
       "<style scoped>\n",
       "    .dataframe tbody tr th:only-of-type {\n",
       "        vertical-align: middle;\n",
       "    }\n",
       "\n",
       "    .dataframe tbody tr th {\n",
       "        vertical-align: top;\n",
       "    }\n",
       "\n",
       "    .dataframe thead th {\n",
       "        text-align: right;\n",
       "    }\n",
       "</style>\n",
       "<table border=\"1\" class=\"dataframe\">\n",
       "  <thead>\n",
       "    <tr style=\"text-align: right;\">\n",
       "      <th></th>\n",
       "      <th>INCIDENT_NUMBER</th>\n",
       "      <th>OFFENSE_CODE</th>\n",
       "      <th>OFFENSE_CODE_GROUP</th>\n",
       "      <th>OFFENSE_DESCRIPTION</th>\n",
       "      <th>DISTRICT</th>\n",
       "      <th>REPORTING_AREA</th>\n",
       "      <th>SHOOTING</th>\n",
       "      <th>OCCURRED_ON_DATE</th>\n",
       "      <th>YEAR</th>\n",
       "      <th>MONTH</th>\n",
       "      <th>DAY_OF_WEEK</th>\n",
       "      <th>HOUR</th>\n",
       "      <th>UCR_PART</th>\n",
       "      <th>STREET</th>\n",
       "      <th>Lat</th>\n",
       "      <th>Long</th>\n",
       "      <th>Location</th>\n",
       "    </tr>\n",
       "  </thead>\n",
       "  <tbody>\n",
       "    <tr>\n",
       "      <th>0</th>\n",
       "      <td>I182070945</td>\n",
       "      <td>619</td>\n",
       "      <td>Larceny</td>\n",
       "      <td>LARCENY ALL OTHERS</td>\n",
       "      <td>D14</td>\n",
       "      <td>808</td>\n",
       "      <td>NaN</td>\n",
       "      <td>2018-09-02 13:00:00</td>\n",
       "      <td>2018</td>\n",
       "      <td>9</td>\n",
       "      <td>Sunday</td>\n",
       "      <td>13</td>\n",
       "      <td>Part One</td>\n",
       "      <td>LINCOLN ST</td>\n",
       "      <td>42.357791</td>\n",
       "      <td>-71.139371</td>\n",
       "      <td>(42.35779134, -71.13937053)</td>\n",
       "    </tr>\n",
       "    <tr>\n",
       "      <th>1</th>\n",
       "      <td>I182070943</td>\n",
       "      <td>1402</td>\n",
       "      <td>Vandalism</td>\n",
       "      <td>VANDALISM</td>\n",
       "      <td>C11</td>\n",
       "      <td>347</td>\n",
       "      <td>NaN</td>\n",
       "      <td>2018-08-21 00:00:00</td>\n",
       "      <td>2018</td>\n",
       "      <td>8</td>\n",
       "      <td>Tuesday</td>\n",
       "      <td>0</td>\n",
       "      <td>Part Two</td>\n",
       "      <td>HECLA ST</td>\n",
       "      <td>42.306821</td>\n",
       "      <td>-71.060300</td>\n",
       "      <td>(42.30682138, -71.06030035)</td>\n",
       "    </tr>\n",
       "    <tr>\n",
       "      <th>2</th>\n",
       "      <td>I182070941</td>\n",
       "      <td>3410</td>\n",
       "      <td>Towed</td>\n",
       "      <td>TOWED MOTOR VEHICLE</td>\n",
       "      <td>D4</td>\n",
       "      <td>151</td>\n",
       "      <td>NaN</td>\n",
       "      <td>2018-09-03 19:27:00</td>\n",
       "      <td>2018</td>\n",
       "      <td>9</td>\n",
       "      <td>Monday</td>\n",
       "      <td>19</td>\n",
       "      <td>Part Three</td>\n",
       "      <td>CAZENOVE ST</td>\n",
       "      <td>42.346589</td>\n",
       "      <td>-71.072429</td>\n",
       "      <td>(42.34658879, -71.07242943)</td>\n",
       "    </tr>\n",
       "    <tr>\n",
       "      <th>3</th>\n",
       "      <td>I182070940</td>\n",
       "      <td>3114</td>\n",
       "      <td>Investigate Property</td>\n",
       "      <td>INVESTIGATE PROPERTY</td>\n",
       "      <td>D4</td>\n",
       "      <td>272</td>\n",
       "      <td>NaN</td>\n",
       "      <td>2018-09-03 21:16:00</td>\n",
       "      <td>2018</td>\n",
       "      <td>9</td>\n",
       "      <td>Monday</td>\n",
       "      <td>21</td>\n",
       "      <td>Part Three</td>\n",
       "      <td>NEWCOMB ST</td>\n",
       "      <td>42.334182</td>\n",
       "      <td>-71.078664</td>\n",
       "      <td>(42.33418175, -71.07866441)</td>\n",
       "    </tr>\n",
       "    <tr>\n",
       "      <th>4</th>\n",
       "      <td>I182070938</td>\n",
       "      <td>3114</td>\n",
       "      <td>Investigate Property</td>\n",
       "      <td>INVESTIGATE PROPERTY</td>\n",
       "      <td>B3</td>\n",
       "      <td>421</td>\n",
       "      <td>NaN</td>\n",
       "      <td>2018-09-03 21:05:00</td>\n",
       "      <td>2018</td>\n",
       "      <td>9</td>\n",
       "      <td>Monday</td>\n",
       "      <td>21</td>\n",
       "      <td>Part Three</td>\n",
       "      <td>DELHI ST</td>\n",
       "      <td>42.275365</td>\n",
       "      <td>-71.090361</td>\n",
       "      <td>(42.27536542, -71.09036101)</td>\n",
       "    </tr>\n",
       "    <tr>\n",
       "      <th>...</th>\n",
       "      <td>...</td>\n",
       "      <td>...</td>\n",
       "      <td>...</td>\n",
       "      <td>...</td>\n",
       "      <td>...</td>\n",
       "      <td>...</td>\n",
       "      <td>...</td>\n",
       "      <td>...</td>\n",
       "      <td>...</td>\n",
       "      <td>...</td>\n",
       "      <td>...</td>\n",
       "      <td>...</td>\n",
       "      <td>...</td>\n",
       "      <td>...</td>\n",
       "      <td>...</td>\n",
       "      <td>...</td>\n",
       "      <td>...</td>\n",
       "    </tr>\n",
       "    <tr>\n",
       "      <th>319068</th>\n",
       "      <td>I050310906-00</td>\n",
       "      <td>3125</td>\n",
       "      <td>Warrant Arrests</td>\n",
       "      <td>WARRANT ARREST</td>\n",
       "      <td>D4</td>\n",
       "      <td>285</td>\n",
       "      <td>NaN</td>\n",
       "      <td>2016-06-05 17:25:00</td>\n",
       "      <td>2016</td>\n",
       "      <td>6</td>\n",
       "      <td>Sunday</td>\n",
       "      <td>17</td>\n",
       "      <td>Part Three</td>\n",
       "      <td>COVENTRY ST</td>\n",
       "      <td>42.336951</td>\n",
       "      <td>-71.085748</td>\n",
       "      <td>(42.33695098, -71.08574813)</td>\n",
       "    </tr>\n",
       "    <tr>\n",
       "      <th>319069</th>\n",
       "      <td>I030217815-08</td>\n",
       "      <td>111</td>\n",
       "      <td>Homicide</td>\n",
       "      <td>MURDER, NON-NEGLIGIENT MANSLAUGHTER</td>\n",
       "      <td>E18</td>\n",
       "      <td>520</td>\n",
       "      <td>NaN</td>\n",
       "      <td>2015-07-09 13:38:00</td>\n",
       "      <td>2015</td>\n",
       "      <td>7</td>\n",
       "      <td>Thursday</td>\n",
       "      <td>13</td>\n",
       "      <td>Part One</td>\n",
       "      <td>RIVER ST</td>\n",
       "      <td>42.255926</td>\n",
       "      <td>-71.123172</td>\n",
       "      <td>(42.25592648, -71.12317207)</td>\n",
       "    </tr>\n",
       "    <tr>\n",
       "      <th>319070</th>\n",
       "      <td>I030217815-08</td>\n",
       "      <td>3125</td>\n",
       "      <td>Warrant Arrests</td>\n",
       "      <td>WARRANT ARREST</td>\n",
       "      <td>E18</td>\n",
       "      <td>520</td>\n",
       "      <td>NaN</td>\n",
       "      <td>2015-07-09 13:38:00</td>\n",
       "      <td>2015</td>\n",
       "      <td>7</td>\n",
       "      <td>Thursday</td>\n",
       "      <td>13</td>\n",
       "      <td>Part Three</td>\n",
       "      <td>RIVER ST</td>\n",
       "      <td>42.255926</td>\n",
       "      <td>-71.123172</td>\n",
       "      <td>(42.25592648, -71.12317207)</td>\n",
       "    </tr>\n",
       "    <tr>\n",
       "      <th>319071</th>\n",
       "      <td>I010370257-00</td>\n",
       "      <td>3125</td>\n",
       "      <td>Warrant Arrests</td>\n",
       "      <td>WARRANT ARREST</td>\n",
       "      <td>E13</td>\n",
       "      <td>569</td>\n",
       "      <td>NaN</td>\n",
       "      <td>2016-05-31 19:35:00</td>\n",
       "      <td>2016</td>\n",
       "      <td>5</td>\n",
       "      <td>Tuesday</td>\n",
       "      <td>19</td>\n",
       "      <td>Part Three</td>\n",
       "      <td>NEW WASHINGTON ST</td>\n",
       "      <td>42.302333</td>\n",
       "      <td>-71.111565</td>\n",
       "      <td>(42.30233307, -71.11156487)</td>\n",
       "    </tr>\n",
       "    <tr>\n",
       "      <th>319072</th>\n",
       "      <td>142052550</td>\n",
       "      <td>3125</td>\n",
       "      <td>Warrant Arrests</td>\n",
       "      <td>WARRANT ARREST</td>\n",
       "      <td>D4</td>\n",
       "      <td>903</td>\n",
       "      <td>NaN</td>\n",
       "      <td>2015-06-22 00:12:00</td>\n",
       "      <td>2015</td>\n",
       "      <td>6</td>\n",
       "      <td>Monday</td>\n",
       "      <td>0</td>\n",
       "      <td>Part Three</td>\n",
       "      <td>WASHINGTON ST</td>\n",
       "      <td>42.333839</td>\n",
       "      <td>-71.080290</td>\n",
       "      <td>(42.33383935, -71.08029038)</td>\n",
       "    </tr>\n",
       "  </tbody>\n",
       "</table>\n",
       "<p>319050 rows × 17 columns</p>\n",
       "</div>"
      ],
      "text/plain": [
       "       INCIDENT_NUMBER  OFFENSE_CODE    OFFENSE_CODE_GROUP  \\\n",
       "0           I182070945           619               Larceny   \n",
       "1           I182070943          1402             Vandalism   \n",
       "2           I182070941          3410                 Towed   \n",
       "3           I182070940          3114  Investigate Property   \n",
       "4           I182070938          3114  Investigate Property   \n",
       "...                ...           ...                   ...   \n",
       "319068   I050310906-00          3125       Warrant Arrests   \n",
       "319069   I030217815-08           111              Homicide   \n",
       "319070   I030217815-08          3125       Warrant Arrests   \n",
       "319071   I010370257-00          3125       Warrant Arrests   \n",
       "319072       142052550          3125       Warrant Arrests   \n",
       "\n",
       "                        OFFENSE_DESCRIPTION DISTRICT REPORTING_AREA SHOOTING  \\\n",
       "0                        LARCENY ALL OTHERS      D14            808      NaN   \n",
       "1                                 VANDALISM      C11            347      NaN   \n",
       "2                       TOWED MOTOR VEHICLE       D4            151      NaN   \n",
       "3                      INVESTIGATE PROPERTY       D4            272      NaN   \n",
       "4                      INVESTIGATE PROPERTY       B3            421      NaN   \n",
       "...                                     ...      ...            ...      ...   \n",
       "319068                       WARRANT ARREST       D4            285      NaN   \n",
       "319069  MURDER, NON-NEGLIGIENT MANSLAUGHTER      E18            520      NaN   \n",
       "319070                       WARRANT ARREST      E18            520      NaN   \n",
       "319071                       WARRANT ARREST      E13            569      NaN   \n",
       "319072                       WARRANT ARREST       D4            903      NaN   \n",
       "\n",
       "           OCCURRED_ON_DATE  YEAR  MONTH DAY_OF_WEEK  HOUR    UCR_PART  \\\n",
       "0       2018-09-02 13:00:00  2018      9      Sunday    13    Part One   \n",
       "1       2018-08-21 00:00:00  2018      8     Tuesday     0    Part Two   \n",
       "2       2018-09-03 19:27:00  2018      9      Monday    19  Part Three   \n",
       "3       2018-09-03 21:16:00  2018      9      Monday    21  Part Three   \n",
       "4       2018-09-03 21:05:00  2018      9      Monday    21  Part Three   \n",
       "...                     ...   ...    ...         ...   ...         ...   \n",
       "319068  2016-06-05 17:25:00  2016      6      Sunday    17  Part Three   \n",
       "319069  2015-07-09 13:38:00  2015      7    Thursday    13    Part One   \n",
       "319070  2015-07-09 13:38:00  2015      7    Thursday    13  Part Three   \n",
       "319071  2016-05-31 19:35:00  2016      5     Tuesday    19  Part Three   \n",
       "319072  2015-06-22 00:12:00  2015      6      Monday     0  Part Three   \n",
       "\n",
       "                   STREET        Lat       Long                     Location  \n",
       "0              LINCOLN ST  42.357791 -71.139371  (42.35779134, -71.13937053)  \n",
       "1                HECLA ST  42.306821 -71.060300  (42.30682138, -71.06030035)  \n",
       "2             CAZENOVE ST  42.346589 -71.072429  (42.34658879, -71.07242943)  \n",
       "3              NEWCOMB ST  42.334182 -71.078664  (42.33418175, -71.07866441)  \n",
       "4                DELHI ST  42.275365 -71.090361  (42.27536542, -71.09036101)  \n",
       "...                   ...        ...        ...                          ...  \n",
       "319068        COVENTRY ST  42.336951 -71.085748  (42.33695098, -71.08574813)  \n",
       "319069           RIVER ST  42.255926 -71.123172  (42.25592648, -71.12317207)  \n",
       "319070           RIVER ST  42.255926 -71.123172  (42.25592648, -71.12317207)  \n",
       "319071  NEW WASHINGTON ST  42.302333 -71.111565  (42.30233307, -71.11156487)  \n",
       "319072      WASHINGTON ST  42.333839 -71.080290  (42.33383935, -71.08029038)  \n",
       "\n",
       "[319050 rows x 17 columns]"
      ]
     },
     "execution_count": 51,
     "metadata": {},
     "output_type": "execute_result"
    }
   ],
   "source": [
    "crime\n",
    "\n",
    "# To see all rows\n",
    "# pd.options.display.max_rows = None\n",
    "# To see 4 rows \n",
    "# pd.options.display.max_rows = 4"
   ]
  },
  {
   "cell_type": "code",
   "execution_count": 52,
   "id": "fdff9c94-7086-45e8-8c05-489dd80415e6",
   "metadata": {},
   "outputs": [
    {
     "name": "stdout",
     "output_type": "stream",
     "text": [
      "<class 'pandas.core.frame.DataFrame'>\n",
      "Index: 319050 entries, 0 to 319072\n",
      "Data columns (total 17 columns):\n",
      " #   Column               Non-Null Count   Dtype  \n",
      "---  ------               --------------   -----  \n",
      " 0   INCIDENT_NUMBER      319050 non-null  object \n",
      " 1   OFFENSE_CODE         319050 non-null  int64  \n",
      " 2   OFFENSE_CODE_GROUP   319050 non-null  object \n",
      " 3   OFFENSE_DESCRIPTION  319050 non-null  object \n",
      " 4   DISTRICT             317285 non-null  object \n",
      " 5   REPORTING_AREA       319050 non-null  object \n",
      " 6   SHOOTING             1019 non-null    object \n",
      " 7   OCCURRED_ON_DATE     319050 non-null  object \n",
      " 8   YEAR                 319050 non-null  int64  \n",
      " 9   MONTH                319050 non-null  int64  \n",
      " 10  DAY_OF_WEEK          319050 non-null  object \n",
      " 11  HOUR                 319050 non-null  int64  \n",
      " 12  UCR_PART             318960 non-null  object \n",
      " 13  STREET               308179 non-null  object \n",
      " 14  Lat                  299052 non-null  float64\n",
      " 15  Long                 299052 non-null  float64\n",
      " 16  Location             319050 non-null  object \n",
      "dtypes: float64(2), int64(4), object(11)\n",
      "memory usage: 43.8+ MB\n"
     ]
    }
   ],
   "source": [
    "crime.info()"
   ]
  },
  {
   "cell_type": "code",
   "execution_count": 53,
   "id": "80772e75-4305-4ec0-8c64-584201a1ca61",
   "metadata": {},
   "outputs": [],
   "source": [
    "# Changing the data type from object to datetime for the OCCURRED_ON_DATE column \n",
    "crime.OCCURRED_ON_DATE = pd.to_datetime(crime.OCCURRED_ON_DATE)"
   ]
  },
  {
   "cell_type": "code",
   "execution_count": 54,
   "id": "180d2557-620b-4133-9b75-108d19f9386d",
   "metadata": {},
   "outputs": [
    {
     "name": "stdout",
     "output_type": "stream",
     "text": [
      "<class 'pandas.core.frame.DataFrame'>\n",
      "Index: 319050 entries, 0 to 319072\n",
      "Data columns (total 17 columns):\n",
      " #   Column               Non-Null Count   Dtype         \n",
      "---  ------               --------------   -----         \n",
      " 0   INCIDENT_NUMBER      319050 non-null  object        \n",
      " 1   OFFENSE_CODE         319050 non-null  int64         \n",
      " 2   OFFENSE_CODE_GROUP   319050 non-null  object        \n",
      " 3   OFFENSE_DESCRIPTION  319050 non-null  object        \n",
      " 4   DISTRICT             317285 non-null  object        \n",
      " 5   REPORTING_AREA       319050 non-null  object        \n",
      " 6   SHOOTING             1019 non-null    object        \n",
      " 7   OCCURRED_ON_DATE     319050 non-null  datetime64[ns]\n",
      " 8   YEAR                 319050 non-null  int64         \n",
      " 9   MONTH                319050 non-null  int64         \n",
      " 10  DAY_OF_WEEK          319050 non-null  object        \n",
      " 11  HOUR                 319050 non-null  int64         \n",
      " 12  UCR_PART             318960 non-null  object        \n",
      " 13  STREET               308179 non-null  object        \n",
      " 14  Lat                  299052 non-null  float64       \n",
      " 15  Long                 299052 non-null  float64       \n",
      " 16  Location             319050 non-null  object        \n",
      "dtypes: datetime64[ns](1), float64(2), int64(4), object(10)\n",
      "memory usage: 43.8+ MB\n"
     ]
    }
   ],
   "source": [
    "# Check if it works?\n",
    "crime.info()"
   ]
  },
  {
   "cell_type": "code",
   "execution_count": 55,
   "id": "3319a860-7999-468c-ab3d-12c006d34742",
   "metadata": {},
   "outputs": [
    {
     "data": {
      "text/plain": [
       "'\\ncrime.OCCURRED_ON_DATE.dt.month\\ncrime.OCCURRED_ON_DATE.dt.weekday\\ncrime.OCCURRED_ON_DATE.dt.hour\\ncrime.OCCURRED_ON_DATE.dt.minute\\n'"
      ]
     },
     "execution_count": 55,
     "metadata": {},
     "output_type": "execute_result"
    }
   ],
   "source": [
    "# Easily extract datetime information frame the OCCURRED_ON_DATE column\n",
    "crime.OCCURRED_ON_DATE.dt.year\n",
    "'''\n",
    "crime.OCCURRED_ON_DATE.dt.month\n",
    "crime.OCCURRED_ON_DATE.dt.weekday\n",
    "crime.OCCURRED_ON_DATE.dt.hour\n",
    "crime.OCCURRED_ON_DATE.dt.minute\n",
    "'''"
   ]
  },
  {
   "cell_type": "code",
   "execution_count": 56,
   "id": "5f7988ec-7f78-47a0-8eae-0942c76a9ca9",
   "metadata": {},
   "outputs": [
    {
     "data": {
      "text/html": [
       "<div>\n",
       "<style scoped>\n",
       "    .dataframe tbody tr th:only-of-type {\n",
       "        vertical-align: middle;\n",
       "    }\n",
       "\n",
       "    .dataframe tbody tr th {\n",
       "        vertical-align: top;\n",
       "    }\n",
       "\n",
       "    .dataframe thead th {\n",
       "        text-align: right;\n",
       "    }\n",
       "</style>\n",
       "<table border=\"1\" class=\"dataframe\">\n",
       "  <thead>\n",
       "    <tr style=\"text-align: right;\">\n",
       "      <th></th>\n",
       "      <th>INCIDENT_NUMBER</th>\n",
       "      <th>OFFENSE_CODE_GROUP</th>\n",
       "      <th>OFFENSE_DESCRIPTION</th>\n",
       "      <th>DISTRICT</th>\n",
       "      <th>REPORTING_AREA</th>\n",
       "      <th>SHOOTING</th>\n",
       "      <th>DAY_OF_WEEK</th>\n",
       "      <th>UCR_PART</th>\n",
       "      <th>STREET</th>\n",
       "      <th>Location</th>\n",
       "    </tr>\n",
       "  </thead>\n",
       "  <tbody>\n",
       "    <tr>\n",
       "      <th>count</th>\n",
       "      <td>319050</td>\n",
       "      <td>319050</td>\n",
       "      <td>319050</td>\n",
       "      <td>317285</td>\n",
       "      <td>319050</td>\n",
       "      <td>1019</td>\n",
       "      <td>319050</td>\n",
       "      <td>318960</td>\n",
       "      <td>308179</td>\n",
       "      <td>319050</td>\n",
       "    </tr>\n",
       "    <tr>\n",
       "      <th>unique</th>\n",
       "      <td>282517</td>\n",
       "      <td>67</td>\n",
       "      <td>244</td>\n",
       "      <td>12</td>\n",
       "      <td>879</td>\n",
       "      <td>1</td>\n",
       "      <td>7</td>\n",
       "      <td>4</td>\n",
       "      <td>4657</td>\n",
       "      <td>18194</td>\n",
       "    </tr>\n",
       "    <tr>\n",
       "      <th>top</th>\n",
       "      <td>I162030584</td>\n",
       "      <td>Motor Vehicle Accident Response</td>\n",
       "      <td>SICK/INJURED/MEDICAL - PERSON</td>\n",
       "      <td>B2</td>\n",
       "      <td></td>\n",
       "      <td>Y</td>\n",
       "      <td>Friday</td>\n",
       "      <td>Part Three</td>\n",
       "      <td>WASHINGTON ST</td>\n",
       "      <td>(0.00000000, 0.00000000)</td>\n",
       "    </tr>\n",
       "    <tr>\n",
       "      <th>freq</th>\n",
       "      <td>13</td>\n",
       "      <td>37132</td>\n",
       "      <td>18783</td>\n",
       "      <td>49940</td>\n",
       "      <td>20250</td>\n",
       "      <td>1019</td>\n",
       "      <td>48489</td>\n",
       "      <td>158537</td>\n",
       "      <td>14192</td>\n",
       "      <td>19998</td>\n",
       "    </tr>\n",
       "  </tbody>\n",
       "</table>\n",
       "</div>"
      ],
      "text/plain": [
       "       INCIDENT_NUMBER               OFFENSE_CODE_GROUP  \\\n",
       "count           319050                           319050   \n",
       "unique          282517                               67   \n",
       "top         I162030584  Motor Vehicle Accident Response   \n",
       "freq                13                            37132   \n",
       "\n",
       "                  OFFENSE_DESCRIPTION DISTRICT REPORTING_AREA SHOOTING  \\\n",
       "count                          319050   317285         319050     1019   \n",
       "unique                            244       12            879        1   \n",
       "top     SICK/INJURED/MEDICAL - PERSON       B2                       Y   \n",
       "freq                            18783    49940          20250     1019   \n",
       "\n",
       "       DAY_OF_WEEK    UCR_PART         STREET                  Location  \n",
       "count       319050      318960         308179                    319050  \n",
       "unique           7           4           4657                     18194  \n",
       "top         Friday  Part Three  WASHINGTON ST  (0.00000000, 0.00000000)  \n",
       "freq         48489      158537          14192                     19998  "
      ]
     },
     "execution_count": 56,
     "metadata": {},
     "output_type": "execute_result"
    }
   ],
   "source": [
    "# Summary information on the non-numeric columns\n",
    "crime.describe(include='object')"
   ]
  },
  {
   "cell_type": "code",
   "execution_count": 57,
   "id": "9cc86bd7-0f9a-4f04-b8bc-8003573c5673",
   "metadata": {},
   "outputs": [
    {
     "data": {
      "text/plain": [
       "Index(['INCIDENT_NUMBER', 'OFFENSE_CODE', 'OFFENSE_CODE_GROUP',\n",
       "       'OFFENSE_DESCRIPTION', 'DISTRICT', 'REPORTING_AREA', 'SHOOTING',\n",
       "       'OCCURRED_ON_DATE', 'YEAR', 'MONTH', 'DAY_OF_WEEK', 'HOUR', 'UCR_PART',\n",
       "       'STREET', 'Lat', 'Long', 'Location'],\n",
       "      dtype='object')"
      ]
     },
     "execution_count": 57,
     "metadata": {},
     "output_type": "execute_result"
    }
   ],
   "source": [
    "crime.columns"
   ]
  },
  {
   "cell_type": "code",
   "execution_count": 58,
   "id": "862a2591-e97e-4fcd-a5a4-1f64b089c260",
   "metadata": {},
   "outputs": [
    {
     "data": {
      "text/plain": [
       "INCIDENT_NUMBER             0\n",
       "OFFENSE_CODE                0\n",
       "OFFENSE_CODE_GROUP          0\n",
       "OFFENSE_DESCRIPTION         0\n",
       "DISTRICT                 1765\n",
       "REPORTING_AREA              0\n",
       "SHOOTING               318031\n",
       "OCCURRED_ON_DATE            0\n",
       "YEAR                        0\n",
       "MONTH                       0\n",
       "DAY_OF_WEEK                 0\n",
       "HOUR                        0\n",
       "UCR_PART                   90\n",
       "STREET                  10871\n",
       "Lat                     19998\n",
       "Long                    19998\n",
       "Location                    0\n",
       "dtype: int64"
      ]
     },
     "execution_count": 58,
     "metadata": {},
     "output_type": "execute_result"
    }
   ],
   "source": [
    "crime.isnull().sum()"
   ]
  },
  {
   "cell_type": "code",
   "execution_count": 59,
   "id": "7848556f-409b-49b0-94a2-d521bf6e03d6",
   "metadata": {},
   "outputs": [
    {
     "name": "stderr",
     "output_type": "stream",
     "text": [
      "C:\\Users\\rbnro\\AppData\\Local\\Programs\\Python\\Python312\\Lib\\site-packages\\numpy\\_core\\fromnumeric.py:84: FutureWarning: The behavior of DataFrame.sum with axis=None is deprecated, in a future version this will reduce over both axes and return a scalar. To retain the old behavior, pass axis=0 (or do not pass axis)\n",
      "  return reduction(axis=axis, out=out, **passkwargs)\n"
     ]
    },
    {
     "data": {
      "text/plain": [
       "Index(['DISTRICT', 'SHOOTING', 'UCR_PART', 'STREET', 'Lat', 'Long'], dtype='object')"
      ]
     },
     "execution_count": 59,
     "metadata": {},
     "output_type": "execute_result"
    }
   ],
   "source": [
    "# Checking for columns with missing values\n",
    "crime.columns[np.sum(crime.isnull()) != 0]"
   ]
  },
  {
   "cell_type": "code",
   "execution_count": 60,
   "id": "db957f4a-deed-4a4a-a81f-2010e95fb324",
   "metadata": {},
   "outputs": [
    {
     "data": {
      "text/plain": [
       "Index(['INCIDENT_NUMBER', 'OFFENSE_CODE', 'OFFENSE_CODE_GROUP',\n",
       "       'OFFENSE_DESCRIPTION', 'REPORTING_AREA', 'OCCURRED_ON_DATE', 'YEAR',\n",
       "       'MONTH', 'DAY_OF_WEEK', 'HOUR', 'Location'],\n",
       "      dtype='object')"
      ]
     },
     "execution_count": 60,
     "metadata": {},
     "output_type": "execute_result"
    }
   ],
   "source": [
    "# Checking for columns with no missing values\n",
    "crime.columns[np.sum(crime.isnull()) == 0]"
   ]
  },
  {
   "cell_type": "code",
   "execution_count": 61,
   "id": "be60ef17-fb48-4e58-bed7-7d11517b5af2",
   "metadata": {},
   "outputs": [
    {
     "name": "stdout",
     "output_type": "stream",
     "text": [
      "INCIDENT_NUMBER has 282517 unique values.\n",
      "OFFENSE_CODE has 222 unique values.\n",
      "OFFENSE_CODE_GROUP has 67 unique values.\n",
      "OFFENSE_DESCRIPTION has 244 unique values.\n",
      "DISTRICT has 12 unique values.\n",
      "REPORTING_AREA has 879 unique values.\n",
      "SHOOTING has 1 unique values.\n",
      "OCCURRED_ON_DATE has 233229 unique values.\n",
      "YEAR has 4 unique values.\n",
      "MONTH has 12 unique values.\n",
      "DAY_OF_WEEK has 7 unique values.\n",
      "HOUR has 24 unique values.\n",
      "UCR_PART has 4 unique values.\n",
      "STREET has 4657 unique values.\n",
      "Lat has 18178 unique values.\n",
      "Long has 18178 unique values.\n",
      "Location has 18194 unique values.\n"
     ]
    }
   ],
   "source": [
    "# Checking for the number of unique values in each column\n",
    "for col in crime.columns:\n",
    "    unique_count = crime[col].nunique()\n",
    "    print(col+' has '+str(unique_count)+' unique values.')"
   ]
  },
  {
   "cell_type": "markdown",
   "id": "4101a4af-59ff-4ade-8264-4ca07c661d71",
   "metadata": {},
   "source": [
    "### Let's answer some questions"
   ]
  },
  {
   "cell_type": "markdown",
   "id": "01822551-88a8-456a-836e-8dbb49547b28",
   "metadata": {},
   "source": [
    "##### 1. What are the most common crimes in terms of offense groups?"
   ]
  },
  {
   "cell_type": "code",
   "execution_count": 62,
   "id": "dc15c199-fdd9-4197-9c96-970c7df2d925",
   "metadata": {},
   "outputs": [
    {
     "data": {
      "text/plain": [
       "OFFENSE_CODE_GROUP\n",
       "Motor Vehicle Accident Response              37132\n",
       "Larceny                                      25935\n",
       "Medical Assistance                           23540\n",
       "Investigate Person                           18749\n",
       "Other                                        18073\n",
       "                                             ...  \n",
       "HUMAN TRAFFICKING                                7\n",
       "INVESTIGATE PERSON                               4\n",
       "Biological Threat                                2\n",
       "HUMAN TRAFFICKING - INVOLUNTARY SERVITUDE        2\n",
       "Burglary - No Property Taken                     2\n",
       "Name: count, Length: 67, dtype: int64"
      ]
     },
     "execution_count": 62,
     "metadata": {},
     "output_type": "execute_result"
    }
   ],
   "source": [
    "crime.OFFENSE_CODE_GROUP.value_counts()"
   ]
  },
  {
   "cell_type": "code",
   "execution_count": 63,
   "id": "2754e48d-8742-4b5f-88f3-71f610a039fd",
   "metadata": {},
   "outputs": [
    {
     "data": {
      "text/plain": [
       "OFFENSE_CODE_GROUP\n",
       "Motor Vehicle Accident Response    0.116383\n",
       "Larceny                            0.081288\n",
       "Medical Assistance                 0.073782\n",
       "Investigate Person                 0.058765\n",
       "Other                              0.056646\n",
       "Drug Violation                     0.051857\n",
       "Simple Assault                     0.049604\n",
       "Vandalism                          0.048312\n",
       "Verbal Disputes                    0.041056\n",
       "Towed                              0.035377\n",
       "Name: count, dtype: float64"
      ]
     },
     "metadata": {},
     "output_type": "display_data"
    },
    {
     "data": {
      "text/plain": [
       "Text(0.5, 1.0, 'Top 10 Offense Groups (as % of all crimes)')"
      ]
     },
     "execution_count": 63,
     "metadata": {},
     "output_type": "execute_result"
    },
    {
     "data": {
      "image/png": "[encoded data removed]",
      "text/plain": [
       "<Figure size 640x480 with 1 Axes>"
      ]
     },
     "metadata": {},
     "output_type": "display_data"
    }
   ],
   "source": [
    "# Top 10 OFFENSE GROUP\n",
    "offense_group_val = crime.OFFENSE_CODE_GROUP.value_counts()[:10]\n",
    "percerntage_value = offense_group_val/crime.shape[0]\n",
    "display(percerntage_value)\n",
    "\n",
    "# Creating a bar chart of the Top 10 OFFENSE GROUP\n",
    "percerntage_value.plot(kind='bar')\n",
    "plt.title('Top 10 Offense Groups (as % of all crimes)')"
   ]
  },
  {
   "cell_type": "markdown",
   "id": "e86bda34-93cf-4871-b5ce-9571f7975bea",
   "metadata": {},
   "source": [
    "##### 2. What are the least common offense groups?"
   ]
  },
  {
   "cell_type": "code",
   "execution_count": 64,
   "id": "f5b72b6e-7958-48ce-bb90-cbe56ade9faa",
   "metadata": {},
   "outputs": [
    {
     "data": {
      "text/plain": [
       "OFFENSE_CODE_GROUP\n",
       "HUMAN TRAFFICKING - INVOLUNTARY SERVITUDE     2\n",
       "Burglary - No Property Taken                  2\n",
       "Biological Threat                             2\n",
       "INVESTIGATE PERSON                            4\n",
       "HUMAN TRAFFICKING                             7\n",
       "Gambling                                      8\n",
       "Manslaughter                                  8\n",
       "Explosives                                   27\n",
       "Phone Call Complaints                        31\n",
       "Aircraft                                     36\n",
       "Name: count, dtype: int64"
      ]
     },
     "execution_count": 64,
     "metadata": {},
     "output_type": "execute_result"
    }
   ],
   "source": [
    "crime.OFFENSE_CODE_GROUP.value_counts().sort_values(ascending=True)[:10]"
   ]
  },
  {
   "cell_type": "markdown",
   "id": "a067153b-fe05-4ff0-81d3-7b939593ab11",
   "metadata": {},
   "source": [
    "##### 3. What are the most common offense descriptions?"
   ]
  },
  {
   "cell_type": "code",
   "execution_count": 65,
   "id": "77120017-a404-4f71-95b8-ad87e9b5f7b6",
   "metadata": {},
   "outputs": [
    {
     "data": {
      "text/plain": [
       "OFFENSE_DESCRIPTION\n",
       "SICK/INJURED/MEDICAL - PERSON                  18783\n",
       "INVESTIGATE PERSON                             18753\n",
       "M/V - LEAVING SCENE - PROPERTY DAMAGE          16323\n",
       "VANDALISM                                      15153\n",
       "ASSAULT SIMPLE - BATTERY                       14791\n",
       "                                               ...  \n",
       "B&E RESIDENCE DAY - NO FORCE                       1\n",
       "ROBBERY - UNARMED - BUSINESS                       1\n",
       "B&E NON-RESIDENCE NIGHT - FORCE                    1\n",
       "PROSTITUTE - COMMON NIGHTWALKER                    1\n",
       "DRUGS - POSS CLASS D - INTENT MFR DIST DISP        1\n",
       "Name: count, Length: 244, dtype: int64"
      ]
     },
     "execution_count": 65,
     "metadata": {},
     "output_type": "execute_result"
    }
   ],
   "source": [
    "offense_des_val = crime.OFFENSE_DESCRIPTION.value_counts()\n",
    "offense_des_val"
   ]
  },
  {
   "cell_type": "code",
   "execution_count": 66,
   "id": "78e6e818-6358-47af-b142-1344ebb1ce55",
   "metadata": {},
   "outputs": [
    {
     "data": {
      "text/plain": [
       "Text(0.5, 1.0, 'Top 10 Offense Description (as % of all crimes)')"
      ]
     },
     "execution_count": 66,
     "metadata": {},
     "output_type": "execute_result"
    },
    {
     "data": {
      "image/png": "[encoded data removed]",
      "text/plain": [
       "<Figure size 640x480 with 1 Axes>"
      ]
     },
     "metadata": {},
     "output_type": "display_data"
    }
   ],
   "source": [
    "top_values = offense_des_val[:10]\n",
    "percerntage_value = top_values/crime.shape[0]\n",
    "\n",
    "percerntage_value.plot(kind='bar')\n",
    "plt.title('Top 10 Offense Description (as % of all crimes)')"
   ]
  },
  {
   "cell_type": "markdown",
   "id": "03716618-2cae-45e9-a067-ea75a2e33967",
   "metadata": {},
   "source": [
    "##### 4. In which year were the most crimes committed?"
   ]
  },
  {
   "cell_type": "code",
   "execution_count": 67,
   "id": "44019131-c93c-4970-b1d5-efaa8fa3d522",
   "metadata": {},
   "outputs": [
    {
     "data": {
      "text/plain": [
       "YEAR\n",
       "2015     53371\n",
       "2016     99110\n",
       "2017    100884\n",
       "2018     65685\n",
       "Name: INCIDENT_NUMBER, dtype: int64"
      ]
     },
     "metadata": {},
     "output_type": "display_data"
    },
    {
     "data": {
      "text/plain": [
       "Text(0.5, 1.0, 'Number of Crimes Per Year')"
      ]
     },
     "execution_count": 67,
     "metadata": {},
     "output_type": "execute_result"
    },
    {
     "data": {
      "image/png": "[encoded data removed]",
      "text/plain": [
       "<Figure size 640x480 with 1 Axes>"
      ]
     },
     "metadata": {},
     "output_type": "display_data"
    }
   ],
   "source": [
    "crime_year = crime.groupby('YEAR').count()['INCIDENT_NUMBER']\n",
    "display(crime_year)\n",
    "crime_year.plot(kind='bar')\n",
    "plt.title('Number of Crimes Per Year')"
   ]
  },
  {
   "cell_type": "markdown",
   "id": "4c87bac8-ce15-4591-bdc3-c1a5c216d05b",
   "metadata": {},
   "source": [
    "##### 5. Are there more crimes committed on specific days?"
   ]
  },
  {
   "cell_type": "code",
   "execution_count": 68,
   "id": "6dcea49c-ea3a-4fb8-abae-4df903d4d072",
   "metadata": {},
   "outputs": [
    {
     "data": {
      "text/plain": [
       "DAY_OF_WEEK\n",
       "Friday       48489\n",
       "Monday       45674\n",
       "Saturday     44816\n",
       "Sunday       40313\n",
       "Thursday     46655\n",
       "Tuesday      46376\n",
       "Wednesday    46727\n",
       "Name: INCIDENT_NUMBER, dtype: int64"
      ]
     },
     "metadata": {},
     "output_type": "display_data"
    },
    {
     "data": {
      "text/plain": [
       "Text(0.5, 1.0, 'Crime Count of Week Days')"
      ]
     },
     "execution_count": 68,
     "metadata": {},
     "output_type": "execute_result"
    },
    {
     "data": {
      "image/png": "[encoded data removed]",
      "text/plain": [
       "<Figure size 640x480 with 1 Axes>"
      ]
     },
     "metadata": {},
     "output_type": "display_data"
    }
   ],
   "source": [
    "days_crime_number = crime.groupby('DAY_OF_WEEK').count()['INCIDENT_NUMBER']\n",
    "display(days_crime_number)\n",
    "days_crime_number.plot(kind='bar')\n",
    "plt.title('Crime Count of Week Days')"
   ]
  },
  {
   "cell_type": "markdown",
   "id": "b8d67057-c5e9-4f30-86d3-2d8cb2ec0a64",
   "metadata": {},
   "source": [
    "##### 6. Are there more crimes during specific hours?"
   ]
  },
  {
   "cell_type": "code",
   "execution_count": 69,
   "id": "b652f7de-ebd6-450b-8ce4-255c39452bc8",
   "metadata": {},
   "outputs": [
    {
     "data": {
      "text/plain": [
       "Text(0.5, 1.0, 'Crime Count of Hours')"
      ]
     },
     "execution_count": 69,
     "metadata": {},
     "output_type": "execute_result"
    },
    {
     "data": {
      "image/png": "[encoded data removed]",
      "text/plain": [
       "<Figure size 640x480 with 1 Axes>"
      ]
     },
     "metadata": {},
     "output_type": "display_data"
    }
   ],
   "source": [
    "hour_crime_number = crime.groupby('HOUR').count()['INCIDENT_NUMBER']\n",
    "#display(hour_crime_number)\n",
    "hour_crime_number.plot(kind='bar')\n",
    "plt.title('Crime Count of Hours')"
   ]
  },
  {
   "cell_type": "markdown",
   "id": "297e75bd-9274-4ad5-bd49-627e1b1e1a16",
   "metadata": {},
   "source": [
    "##### 7. On what days and during which hours are the most crimes committed?"
   ]
  },
  {
   "cell_type": "code",
   "execution_count": 70,
   "id": "b8409204-a04f-48a0-8142-bff43dbd73af",
   "metadata": {},
   "outputs": [
    {
     "data": {
      "text/plain": [
       "<Axes: ylabel='HOUR'>"
      ]
     },
     "execution_count": 70,
     "metadata": {},
     "output_type": "execute_result"
    },
    {
     "data": {
      "image/png": "[encoded data removed]",
      "text/plain": [
       "<Figure size 640x480 with 2 Axes>"
      ]
     },
     "metadata": {},
     "output_type": "display_data"
    }
   ],
   "source": [
    "week_and_hour = crime.groupby(['HOUR','DAY_OF_WEEK']).count()['INCIDENT_NUMBER'].unstack()\n",
    "week_and_hour.columns = ['Monday','Tuesday','Wednesday','Thursday','Friday','Saturday','Sunday']\n",
    "#display(week_and_hour)\n",
    "sns.heatmap(week_and_hour,cmap=sns.cubehelix_palette(as_cmap=True))"
   ]
  },
  {
   "cell_type": "markdown",
   "id": "40059d3f-b81f-4308-9333-d96ebfb42e58",
   "metadata": {},
   "source": [
    "##### 8. In which months were the number of crimes below average?"
   ]
  },
  {
   "cell_type": "code",
   "execution_count": 71,
   "id": "bc475c58-7810-45f2-a9d9-ee6a88722b10",
   "metadata": {},
   "outputs": [
    {
     "name": "stdout",
     "output_type": "stream",
     "text": [
      "The average number of crime is: 7976.25\n"
     ]
    },
    {
     "data": {
      "text/html": [
       "<style type=\"text/css\">\n",
       "#T_b48d4_row0_col1, #T_b48d4_row0_col3, #T_b48d4_row1_col1, #T_b48d4_row1_col2, #T_b48d4_row1_col3, #T_b48d4_row2_col3, #T_b48d4_row3_col3, #T_b48d4_row5_col0, #T_b48d4_row8_col3, #T_b48d4_row10_col0, #T_b48d4_row10_col1, #T_b48d4_row10_col2, #T_b48d4_row11_col1, #T_b48d4_row11_col2 {\n",
       "  color: blue;\n",
       "}\n",
       "#T_b48d4_row4_col3, #T_b48d4_row7_col1, #T_b48d4_row7_col2, #T_b48d4_row8_col0 {\n",
       "  color: white;\n",
       "  background-color: darkgreen;\n",
       "}\n",
       "</style>\n",
       "<table id=\"T_b48d4\">\n",
       "  <thead>\n",
       "    <tr>\n",
       "      <th class=\"index_name level0\" >YEAR</th>\n",
       "      <th id=\"T_b48d4_level0_col0\" class=\"col_heading level0 col0\" >2015</th>\n",
       "      <th id=\"T_b48d4_level0_col1\" class=\"col_heading level0 col1\" >2016</th>\n",
       "      <th id=\"T_b48d4_level0_col2\" class=\"col_heading level0 col2\" >2017</th>\n",
       "      <th id=\"T_b48d4_level0_col3\" class=\"col_heading level0 col3\" >2018</th>\n",
       "    </tr>\n",
       "    <tr>\n",
       "      <th class=\"index_name level0\" >MONTH</th>\n",
       "      <th class=\"blank col0\" >&nbsp;</th>\n",
       "      <th class=\"blank col1\" >&nbsp;</th>\n",
       "      <th class=\"blank col2\" >&nbsp;</th>\n",
       "      <th class=\"blank col3\" >&nbsp;</th>\n",
       "    </tr>\n",
       "  </thead>\n",
       "  <tbody>\n",
       "    <tr>\n",
       "      <th id=\"T_b48d4_level0_row0\" class=\"row_heading level0 row0\" >1</th>\n",
       "      <td id=\"T_b48d4_row0_col0\" class=\"data row0 col0\" >nan</td>\n",
       "      <td id=\"T_b48d4_row0_col1\" class=\"data row0 col1\" >7835.000000</td>\n",
       "      <td id=\"T_b48d4_row0_col2\" class=\"data row0 col2\" >7991.000000</td>\n",
       "      <td id=\"T_b48d4_row0_col3\" class=\"data row0 col3\" >7782.000000</td>\n",
       "    </tr>\n",
       "    <tr>\n",
       "      <th id=\"T_b48d4_level0_row1\" class=\"row_heading level0 row1\" >2</th>\n",
       "      <td id=\"T_b48d4_row1_col0\" class=\"data row1 col0\" >nan</td>\n",
       "      <td id=\"T_b48d4_row1_col1\" class=\"data row1 col1\" >7307.000000</td>\n",
       "      <td id=\"T_b48d4_row1_col2\" class=\"data row1 col2\" >7408.000000</td>\n",
       "      <td id=\"T_b48d4_row1_col3\" class=\"data row1 col3\" >6937.000000</td>\n",
       "    </tr>\n",
       "    <tr>\n",
       "      <th id=\"T_b48d4_level0_row2\" class=\"row_heading level0 row2\" >3</th>\n",
       "      <td id=\"T_b48d4_row2_col0\" class=\"data row2 col0\" >nan</td>\n",
       "      <td id=\"T_b48d4_row2_col1\" class=\"data row2 col1\" >8199.000000</td>\n",
       "      <td id=\"T_b48d4_row2_col2\" class=\"data row2 col2\" >8179.000000</td>\n",
       "      <td id=\"T_b48d4_row2_col3\" class=\"data row2 col3\" >7768.000000</td>\n",
       "    </tr>\n",
       "    <tr>\n",
       "      <th id=\"T_b48d4_level0_row3\" class=\"row_heading level0 row3\" >4</th>\n",
       "      <td id=\"T_b48d4_row3_col0\" class=\"data row3 col0\" >nan</td>\n",
       "      <td id=\"T_b48d4_row3_col1\" class=\"data row3 col1\" >8101.000000</td>\n",
       "      <td id=\"T_b48d4_row3_col2\" class=\"data row3 col2\" >8069.000000</td>\n",
       "      <td id=\"T_b48d4_row3_col3\" class=\"data row3 col3\" >7916.000000</td>\n",
       "    </tr>\n",
       "    <tr>\n",
       "      <th id=\"T_b48d4_level0_row4\" class=\"row_heading level0 row4\" >5</th>\n",
       "      <td id=\"T_b48d4_row4_col0\" class=\"data row4 col0\" >nan</td>\n",
       "      <td id=\"T_b48d4_row4_col1\" class=\"data row4 col1\" >8578.000000</td>\n",
       "      <td id=\"T_b48d4_row4_col2\" class=\"data row4 col2\" >8715.000000</td>\n",
       "      <td id=\"T_b48d4_row4_col3\" class=\"data row4 col3\" >8906.000000</td>\n",
       "    </tr>\n",
       "    <tr>\n",
       "      <th id=\"T_b48d4_level0_row5\" class=\"row_heading level0 row5\" >6</th>\n",
       "      <td id=\"T_b48d4_row5_col0\" class=\"data row5 col0\" >4188.000000</td>\n",
       "      <td id=\"T_b48d4_row5_col1\" class=\"data row5 col1\" >8558.000000</td>\n",
       "      <td id=\"T_b48d4_row5_col2\" class=\"data row5 col2\" >8985.000000</td>\n",
       "      <td id=\"T_b48d4_row5_col3\" class=\"data row5 col3\" >8834.000000</td>\n",
       "    </tr>\n",
       "    <tr>\n",
       "      <th id=\"T_b48d4_level0_row6\" class=\"row_heading level0 row6\" >7</th>\n",
       "      <td id=\"T_b48d4_row6_col0\" class=\"data row6 col0\" >8322.000000</td>\n",
       "      <td id=\"T_b48d4_row6_col1\" class=\"data row6 col1\" >8618.000000</td>\n",
       "      <td id=\"T_b48d4_row6_col2\" class=\"data row6 col2\" >9075.000000</td>\n",
       "      <td id=\"T_b48d4_row6_col3\" class=\"data row6 col3\" >8538.000000</td>\n",
       "    </tr>\n",
       "    <tr>\n",
       "      <th id=\"T_b48d4_level0_row7\" class=\"row_heading level0 row7\" >8</th>\n",
       "      <td id=\"T_b48d4_row7_col0\" class=\"data row7 col0\" >8340.000000</td>\n",
       "      <td id=\"T_b48d4_row7_col1\" class=\"data row7 col1\" >8938.000000</td>\n",
       "      <td id=\"T_b48d4_row7_col2\" class=\"data row7 col2\" >9206.000000</td>\n",
       "      <td id=\"T_b48d4_row7_col3\" class=\"data row7 col3\" >8337.000000</td>\n",
       "    </tr>\n",
       "    <tr>\n",
       "      <th id=\"T_b48d4_level0_row8\" class=\"row_heading level0 row8\" >9</th>\n",
       "      <td id=\"T_b48d4_row8_col0\" class=\"data row8 col0\" >8411.000000</td>\n",
       "      <td id=\"T_b48d4_row8_col1\" class=\"data row8 col1\" >8521.000000</td>\n",
       "      <td id=\"T_b48d4_row8_col2\" class=\"data row8 col2\" >8940.000000</td>\n",
       "      <td id=\"T_b48d4_row8_col3\" class=\"data row8 col3\" >667.000000</td>\n",
       "    </tr>\n",
       "    <tr>\n",
       "      <th id=\"T_b48d4_level0_row9\" class=\"row_heading level0 row9\" >10</th>\n",
       "      <td id=\"T_b48d4_row9_col0\" class=\"data row9 col0\" >8305.000000</td>\n",
       "      <td id=\"T_b48d4_row9_col1\" class=\"data row9 col1\" >8582.000000</td>\n",
       "      <td id=\"T_b48d4_row9_col2\" class=\"data row9 col2\" >8846.000000</td>\n",
       "      <td id=\"T_b48d4_row9_col3\" class=\"data row9 col3\" >nan</td>\n",
       "    </tr>\n",
       "    <tr>\n",
       "      <th id=\"T_b48d4_level0_row10\" class=\"row_heading level0 row10\" >11</th>\n",
       "      <td id=\"T_b48d4_row10_col0\" class=\"data row10 col0\" >7818.000000</td>\n",
       "      <td id=\"T_b48d4_row10_col1\" class=\"data row10 col1\" >7922.000000</td>\n",
       "      <td id=\"T_b48d4_row10_col2\" class=\"data row10 col2\" >7935.000000</td>\n",
       "      <td id=\"T_b48d4_row10_col3\" class=\"data row10 col3\" >nan</td>\n",
       "    </tr>\n",
       "    <tr>\n",
       "      <th id=\"T_b48d4_level0_row11\" class=\"row_heading level0 row11\" >12</th>\n",
       "      <td id=\"T_b48d4_row11_col0\" class=\"data row11 col0\" >7987.000000</td>\n",
       "      <td id=\"T_b48d4_row11_col1\" class=\"data row11 col1\" >7951.000000</td>\n",
       "      <td id=\"T_b48d4_row11_col2\" class=\"data row11 col2\" >7535.000000</td>\n",
       "      <td id=\"T_b48d4_row11_col3\" class=\"data row11 col3\" >nan</td>\n",
       "    </tr>\n",
       "  </tbody>\n",
       "</table>\n"
      ],
      "text/plain": [
       "<pandas.io.formats.style.Styler at 0x145cc71ba70>"
      ]
     },
     "execution_count": 71,
     "metadata": {},
     "output_type": "execute_result"
    }
   ],
   "source": [
    "avg_crime = crime.groupby(['YEAR','MONTH']).count()['INCIDENT_NUMBER'].mean()\n",
    "print('The average number of crime is: '+str(avg_crime))\n",
    "\n",
    "year_and_month = crime.groupby(['MONTH','YEAR']).count()['INCIDENT_NUMBER'].unstack()\n",
    "\n",
    "def style_negative(v,props=''):\n",
    "    return props if v < avg_crime else None\n",
    "style_apply = year_and_month.style.map(style_negative,props='color:blue;')\\\n",
    "                .map(lambda v:'opacity:20%;' if((v<0.3)and(v>-0.3)) else None)\n",
    "style_apply\n",
    "\n",
    "# Use apply to highlight the maximum in a column in darkgreen\n",
    "def highlight_max(s,props=''):\n",
    "    return np.where(s==np.nanmax(s.values),props,'')\n",
    "\n",
    "style_apply.apply(highlight_max,props='color:white;background-color:darkgreen',axis=0)"
   ]
  },
  {
   "cell_type": "markdown",
   "id": "6b200b12-597d-401f-9eb2-1ad1f1c5e5a1",
   "metadata": {},
   "source": [
    "##### 9. In which districts were the most crimes committed on yearly basis?"
   ]
  },
  {
   "cell_type": "code",
   "execution_count": 72,
   "id": "fd801f03-6c80-4c7d-82e6-f60180476f95",
   "metadata": {},
   "outputs": [
    {
     "data": {
      "image/png": "[encoded data removed]",
      "text/plain": [
       "<Figure size 640x480 with 2 Axes>"
      ]
     },
     "metadata": {},
     "output_type": "display_data"
    }
   ],
   "source": [
    "district_and_year = crime.groupby(['DISTRICT', 'YEAR']).count()['INCIDENT_NUMBER'].unstack()\n",
    "\n",
    "sns.heatmap(district_and_year, cmap=sns.cubehelix_palette(as_cmap=True));"
   ]
  },
  {
   "cell_type": "code",
   "execution_count": 73,
   "id": "12af0c5a-114c-44ce-b884-81d8d163bfbd",
   "metadata": {},
   "outputs": [
    {
     "name": "stdout",
     "output_type": "stream",
     "text": [
      "The average number of crime in district is: 6610.104166666667\n"
     ]
    },
    {
     "data": {
      "text/html": [
       "<style type=\"text/css\">\n",
       "#T_5bf61_row0_col0, #T_5bf61_row1_col0, #T_5bf61_row1_col1, #T_5bf61_row1_col2, #T_5bf61_row1_col3, #T_5bf61_row2_col0, #T_5bf61_row2_col1, #T_5bf61_row2_col2, #T_5bf61_row2_col3, #T_5bf61_row4_col0, #T_5bf61_row6_col0, #T_5bf61_row6_col3, #T_5bf61_row7_col0, #T_5bf61_row7_col1, #T_5bf61_row7_col2, #T_5bf61_row7_col3, #T_5bf61_row9_col0, #T_5bf61_row9_col1, #T_5bf61_row9_col2, #T_5bf61_row9_col3, #T_5bf61_row10_col0, #T_5bf61_row10_col1, #T_5bf61_row10_col2, #T_5bf61_row10_col3, #T_5bf61_row11_col0, #T_5bf61_row11_col1, #T_5bf61_row11_col2, #T_5bf61_row11_col3 {\n",
       "  color: blue;\n",
       "}\n",
       "#T_5bf61_row3_col0, #T_5bf61_row3_col1, #T_5bf61_row3_col2, #T_5bf61_row3_col3 {\n",
       "  color: white;\n",
       "  background-color: darkgreen;\n",
       "}\n",
       "</style>\n",
       "<table id=\"T_5bf61\">\n",
       "  <thead>\n",
       "    <tr>\n",
       "      <th class=\"index_name level0\" >YEAR</th>\n",
       "      <th id=\"T_5bf61_level0_col0\" class=\"col_heading level0 col0\" >2015</th>\n",
       "      <th id=\"T_5bf61_level0_col1\" class=\"col_heading level0 col1\" >2016</th>\n",
       "      <th id=\"T_5bf61_level0_col2\" class=\"col_heading level0 col2\" >2017</th>\n",
       "      <th id=\"T_5bf61_level0_col3\" class=\"col_heading level0 col3\" >2018</th>\n",
       "    </tr>\n",
       "    <tr>\n",
       "      <th class=\"index_name level0\" >DISTRICT</th>\n",
       "      <th class=\"blank col0\" >&nbsp;</th>\n",
       "      <th class=\"blank col1\" >&nbsp;</th>\n",
       "      <th class=\"blank col2\" >&nbsp;</th>\n",
       "      <th class=\"blank col3\" >&nbsp;</th>\n",
       "    </tr>\n",
       "  </thead>\n",
       "  <tbody>\n",
       "    <tr>\n",
       "      <th id=\"T_5bf61_level0_row0\" class=\"row_heading level0 row0\" >A1</th>\n",
       "      <td id=\"T_5bf61_row0_col0\" class=\"data row0 col0\" >6010</td>\n",
       "      <td id=\"T_5bf61_row0_col1\" class=\"data row0 col1\" >10922</td>\n",
       "      <td id=\"T_5bf61_row0_col2\" class=\"data row0 col2\" >11374</td>\n",
       "      <td id=\"T_5bf61_row0_col3\" class=\"data row0 col3\" >7404</td>\n",
       "    </tr>\n",
       "    <tr>\n",
       "      <th id=\"T_5bf61_level0_row1\" class=\"row_heading level0 row1\" >A15</th>\n",
       "      <td id=\"T_5bf61_row1_col0\" class=\"data row1 col0\" >1027</td>\n",
       "      <td id=\"T_5bf61_row1_col1\" class=\"data row1 col1\" >1986</td>\n",
       "      <td id=\"T_5bf61_row1_col2\" class=\"data row1 col2\" >2167</td>\n",
       "      <td id=\"T_5bf61_row1_col3\" class=\"data row1 col3\" >1325</td>\n",
       "    </tr>\n",
       "    <tr>\n",
       "      <th id=\"T_5bf61_level0_row2\" class=\"row_heading level0 row2\" >A7</th>\n",
       "      <td id=\"T_5bf61_row2_col0\" class=\"data row2 col0\" >2426</td>\n",
       "      <td id=\"T_5bf61_row2_col1\" class=\"data row2 col1\" >4130</td>\n",
       "      <td id=\"T_5bf61_row2_col2\" class=\"data row2 col2\" >4264</td>\n",
       "      <td id=\"T_5bf61_row2_col3\" class=\"data row2 col3\" >2724</td>\n",
       "    </tr>\n",
       "    <tr>\n",
       "      <th id=\"T_5bf61_level0_row3\" class=\"row_heading level0 row3\" >B2</th>\n",
       "      <td id=\"T_5bf61_row3_col0\" class=\"data row3 col0\" >8682</td>\n",
       "      <td id=\"T_5bf61_row3_col1\" class=\"data row3 col1\" >15706</td>\n",
       "      <td id=\"T_5bf61_row3_col2\" class=\"data row3 col2\" >15680</td>\n",
       "      <td id=\"T_5bf61_row3_col3\" class=\"data row3 col3\" >9872</td>\n",
       "    </tr>\n",
       "    <tr>\n",
       "      <th id=\"T_5bf61_level0_row4\" class=\"row_heading level0 row4\" >B3</th>\n",
       "      <td id=\"T_5bf61_row4_col0\" class=\"data row4 col0\" >5616</td>\n",
       "      <td id=\"T_5bf61_row4_col1\" class=\"data row4 col1\" >11145</td>\n",
       "      <td id=\"T_5bf61_row4_col2\" class=\"data row4 col2\" >11195</td>\n",
       "      <td id=\"T_5bf61_row4_col3\" class=\"data row4 col3\" >7485</td>\n",
       "    </tr>\n",
       "    <tr>\n",
       "      <th id=\"T_5bf61_level0_row5\" class=\"row_heading level0 row5\" >C11</th>\n",
       "      <td id=\"T_5bf61_row5_col0\" class=\"data row5 col0\" >7363</td>\n",
       "      <td id=\"T_5bf61_row5_col1\" class=\"data row5 col1\" >13602</td>\n",
       "      <td id=\"T_5bf61_row5_col2\" class=\"data row5 col2\" >13281</td>\n",
       "      <td id=\"T_5bf61_row5_col3\" class=\"data row5 col3\" >8282</td>\n",
       "    </tr>\n",
       "    <tr>\n",
       "      <th id=\"T_5bf61_level0_row6\" class=\"row_heading level0 row6\" >C6</th>\n",
       "      <td id=\"T_5bf61_row6_col0\" class=\"data row6 col0\" >3939</td>\n",
       "      <td id=\"T_5bf61_row6_col1\" class=\"data row6 col1\" >7072</td>\n",
       "      <td id=\"T_5bf61_row6_col2\" class=\"data row6 col2\" >7247</td>\n",
       "      <td id=\"T_5bf61_row6_col3\" class=\"data row6 col3\" >5199</td>\n",
       "    </tr>\n",
       "    <tr>\n",
       "      <th id=\"T_5bf61_level0_row7\" class=\"row_heading level0 row7\" >D14</th>\n",
       "      <td id=\"T_5bf61_row7_col0\" class=\"data row7 col0\" >3280</td>\n",
       "      <td id=\"T_5bf61_row7_col1\" class=\"data row7 col1\" >6279</td>\n",
       "      <td id=\"T_5bf61_row7_col2\" class=\"data row7 col2\" >6509</td>\n",
       "      <td id=\"T_5bf61_row7_col3\" class=\"data row7 col3\" >4059</td>\n",
       "    </tr>\n",
       "    <tr>\n",
       "      <th id=\"T_5bf61_level0_row8\" class=\"row_heading level0 row8\" >D4</th>\n",
       "      <td id=\"T_5bf61_row8_col0\" class=\"data row8 col0\" >7203</td>\n",
       "      <td id=\"T_5bf61_row8_col1\" class=\"data row8 col1\" >12953</td>\n",
       "      <td id=\"T_5bf61_row8_col2\" class=\"data row8 col2\" >13157</td>\n",
       "      <td id=\"T_5bf61_row8_col3\" class=\"data row8 col3\" >8601</td>\n",
       "    </tr>\n",
       "    <tr>\n",
       "      <th id=\"T_5bf61_level0_row9\" class=\"row_heading level0 row9\" >E13</th>\n",
       "      <td id=\"T_5bf61_row9_col0\" class=\"data row9 col0\" >2800</td>\n",
       "      <td id=\"T_5bf61_row9_col1\" class=\"data row9 col1\" >5558</td>\n",
       "      <td id=\"T_5bf61_row9_col2\" class=\"data row9 col2\" >5514</td>\n",
       "      <td id=\"T_5bf61_row9_col3\" class=\"data row9 col3\" >3662</td>\n",
       "    </tr>\n",
       "    <tr>\n",
       "      <th id=\"T_5bf61_level0_row10\" class=\"row_heading level0 row10\" >E18</th>\n",
       "      <td id=\"T_5bf61_row10_col0\" class=\"data row10 col0\" >2740</td>\n",
       "      <td id=\"T_5bf61_row10_col1\" class=\"data row10 col1\" >5223</td>\n",
       "      <td id=\"T_5bf61_row10_col2\" class=\"data row10 col2\" >5611</td>\n",
       "      <td id=\"T_5bf61_row10_col3\" class=\"data row10 col3\" >3773</td>\n",
       "    </tr>\n",
       "    <tr>\n",
       "      <th id=\"T_5bf61_level0_row11\" class=\"row_heading level0 row11\" >E5</th>\n",
       "      <td id=\"T_5bf61_row11_col0\" class=\"data row11 col0\" >2157</td>\n",
       "      <td id=\"T_5bf61_row11_col1\" class=\"data row11 col1\" >4017</td>\n",
       "      <td id=\"T_5bf61_row11_col2\" class=\"data row11 col2\" >4309</td>\n",
       "      <td id=\"T_5bf61_row11_col3\" class=\"data row11 col3\" >2755</td>\n",
       "    </tr>\n",
       "  </tbody>\n",
       "</table>\n"
      ],
      "text/plain": [
       "<pandas.io.formats.style.Styler at 0x145c98930e0>"
      ]
     },
     "execution_count": 73,
     "metadata": {},
     "output_type": "execute_result"
    }
   ],
   "source": [
    "avg_crime1 = crime.groupby(['DISTRICT','YEAR']).count()['INCIDENT_NUMBER'].mean()\n",
    "print('The average number of crime in district is: '+str(avg_crime1))\n",
    "\n",
    "year_and_district = crime.groupby(['DISTRICT','YEAR']).count()['INCIDENT_NUMBER'].unstack()\n",
    "\n",
    "def style_negative(v,props=''):\n",
    "    return props if v < avg_crime1 else None\n",
    "style_apply1 = year_and_district.style.map(style_negative,props='color:blue;')\\\n",
    "                .map(lambda v:'opacity:20%;' if((v<0.3)and(v>-0.3)) else None)\n",
    "style_apply1\n",
    "\n",
    "# Use apply to highlight the maximum in a column in darkgreen\n",
    "def highlight_max(s,props=''):\n",
    "    return np.where(s==np.nanmax(s.values),props,'')\n",
    "\n",
    "style_apply1.apply(highlight_max,props='color:white;background-color:darkgreen',axis=0)"
   ]
  },
  {
   "cell_type": "code",
   "execution_count": 74,
   "id": "9b09d6a8-0152-42d7-8ec7-5b10a33a6f03",
   "metadata": {},
   "outputs": [
    {
     "data": {
      "text/plain": [
       "\"\\ncrime_district_year = crime.groupby(['YEAR','DISTRICT']).count()['INCIDENT_NUMBER'].m\\n\\n# Sort the values within each year by descending order\\nsorted_crime_district_year = (\\n    crime_district_year\\n    .reset_index()  # Reset index to manipulate the YEAR and DISTRICT columns\\n    .sort_values(['YEAR', 'INCIDENT_NUMBER'], ascending=[True, False])  # Sort by YEAR and then by count\\n    .set_index(['YEAR', 'DISTRICT'])  # Set the index back to YEAR and DISTRICT\\n)\\ndisplay(sorted_crime_district_year)\\n\\nmost_crime = crime.groupby('OCCURRED_ON_DATE').count()['INCIDENT_NUMBER'].sort_values(ascending=False)\\nmost_crime\\n\""
      ]
     },
     "execution_count": 74,
     "metadata": {},
     "output_type": "execute_result"
    }
   ],
   "source": [
    "'''\n",
    "crime_district_year = crime.groupby(['YEAR','DISTRICT']).count()['INCIDENT_NUMBER'].m\n",
    "\n",
    "# Sort the values within each year by descending order\n",
    "sorted_crime_district_year = (\n",
    "    crime_district_year\n",
    "    .reset_index()  # Reset index to manipulate the YEAR and DISTRICT columns\n",
    "    .sort_values(['YEAR', 'INCIDENT_NUMBER'], ascending=[True, False])  # Sort by YEAR and then by count\n",
    "    .set_index(['YEAR', 'DISTRICT'])  # Set the index back to YEAR and DISTRICT\n",
    ")\n",
    "display(sorted_crime_district_year)\n",
    "\n",
    "most_crime = crime.groupby('OCCURRED_ON_DATE').count()['INCIDENT_NUMBER'].sort_values(ascending=False)\n",
    "most_crime\n",
    "'''"
   ]
  }
 ],
 "metadata": {
  "kernelspec": {
   "display_name": "Python 3 (ipykernel)",
   "language": "python",
   "name": "python3"
  },
  "language_info": {
   "codemirror_mode": {
    "name": "ipython",
    "version": 3
   },
   "file_extension": ".py",
   "mimetype": "text/x-python",
   "name": "python",
   "nbconvert_exporter": "python",
   "pygments_lexer": "ipython3",
   "version": "3.12.7"
  }
 },
 "nbformat": 4,
 "nbformat_minor": 5
}
